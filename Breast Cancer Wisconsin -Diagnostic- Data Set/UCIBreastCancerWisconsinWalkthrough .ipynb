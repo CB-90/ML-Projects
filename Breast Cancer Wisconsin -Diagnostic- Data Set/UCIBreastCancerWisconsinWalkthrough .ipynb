{
 "cells": [
  {
   "cell_type": "markdown",
   "metadata": {},
   "source": [
    "# UCI MACHINE LEARNING REPOSITORY: Breast Cancer Wisconsin (Diagnostic) Data Set\n",
    "\n",
    "21 April 2018\n",
    "\n",
    "Creator: CB-90\n",
    "\n",
    "Data taken from: https://archive.ics.uci.edu/ml/datasets/Breast+Cancer+Wisconsin+%28Diagnostic%29 (there are actually several data sets on the site, so pay attention which one you're working on! I used the file wdbc.data.txt.)\n",
    "\n",
    "The code (in Octave) in this notebook is merely for illustrative purposes. You can find the full code in the folder.\n",
    "\n",
    "## 1. Description of data set\n",
    "\n",
    "This data set contains data from breast biopsies and the cancer diagnosis. We want to predict if the Diagnosis is malignant or benign based on the biopsy results.\n",
    "\n",
    "About the data set: We have 569 examples, 30 features, and 2 classes (we have 32 columns because the first two columns are ID and Class).\n",
    "\n",
    "Class distribution: 357 benign, 212 malignant.\n",
    "\n",
    "NOTE IF YOU USE OCTAVE: Apparently, Octave can't read text files with strings, and the class is given as M (malignant) or B (benign), so you have to replace those with digits. I used 1 for M, 0 for B.\n",
    "\n",
    "The features in this data set are interesting. There are only ten \"real\" features, but each feature has three measurements. As the UCI description puts it:\n",
    "\n",
    "\"Ten real-valued features are computed for each cell nucleus:\n",
    "\n",
    "a) radius (mean of distances from center to points on the perimeter)\n",
    "\n",
    "b) texture (standard deviation of gray-scale values)\n",
    "\n",
    "c) perimeter\n",
    "\n",
    "d) area\n",
    "\n",
    "e) smoothness (local variation in radius lengths)\n",
    "\n",
    "f) compactness (perimeter^2 / area - 1.0)\n",
    "\n",
    "g) concavity (severity of concave portions of the contour)\n",
    "\n",
    "h) concave points (number of concave portions of the contour)\n",
    "\n",
    "i) symmetry \n",
    "\n",
    "j) fractal dimension (\"coastline approximation\" - 1)\n",
    "\n",
    "The mean, standard error, and \"worst\" or largest (mean of the three largest values) of these features were computed for each image, resulting in 30 features.  For instance, field 3 is Mean Radius, field 13 is Radius SE, field 23 is Worst Radius.\"\n",
    "\n",
    "## 2. Getting started\n",
    "\n",
    "After loading the data, we first rearrange it in a random order:"
   ]
  },
  {
   "cell_type": "code",
   "execution_count": null,
   "metadata": {},
   "outputs": [],
   "source": [
    "l = length(data);\n",
    "rndIDX = randperm(l); \n",
    "data = data(rndIDX, :);"
   ]
  },
  {
   "cell_type": "markdown",
   "metadata": {},
   "source": [
    "Now we get different training, validation and test sets each time we run the algorithm.\n",
    "\n",
    "Then, we want to get an idea about the data, so we visualize the distribution of examples over the different features:"
   ]
  },
  {
   "cell_type": "code",
   "execution_count": null,
   "metadata": {},
   "outputs": [],
   "source": [
    "range = linspace(1, l, l);\n",
    "for i = 1:num_features,\n",
    "  scatter(range, X(:,i), 50, y)\n",
    "  title (\"Feature distribution for malignant and benign tumors\");\n",
    "  xlabel(\"No. examples\");\n",
    "  ylabel(\"Values\");\n",
    "  pause;\n",
    "end;"
   ]
  },
  {
   "cell_type": "markdown",
   "metadata": {},
   "source": [
    "Let's take a look at some graphs (I individualized the titles):\n",
    "\n",
    "<img src=\"Images/RadiusMean.jpg\" width=\"400\" height=\"400\" align=\"left\"/>"
   ]
  }
 ],
 "metadata": {
  "kernelspec": {
   "display_name": "Octave",
   "language": "octave",
   "name": "octave"
  }
 },
 "nbformat": 4,
 "nbformat_minor": 2
}
